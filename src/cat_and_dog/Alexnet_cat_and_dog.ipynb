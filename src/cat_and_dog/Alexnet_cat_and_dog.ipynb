{
 "cells": [
  {
   "cell_type": "code",
   "execution_count": null,
   "metadata": {},
   "outputs": [],
   "source": [
    "import torch\n",
    "import torch.nn\n",
    "import torch.nn.functional as F\n",
    "import torchvision\n",
    "import torchvision.models as models\n",
    "from torchvision import transforms\n",
    "import matplotlib.pyplot as plt"
   ]
  },
  {
   "cell_type": "code",
   "execution_count": null,
   "metadata": {},
   "outputs": [],
   "source": [
    "train_data_path = \"../../data/cat_and_dog/train\"\n",
    "test_data_path = \"../../data/cat_and_dog/validation\"\n",
    "\n",
    "LEARNING_RATE = 5e-4\n",
    "EPOCHS = 30\n",
    "BATCH_SIZE = 100"
   ]
  },
  {
   "cell_type": "code",
   "execution_count": null,
   "metadata": {},
   "outputs": [],
   "source": [
    "# RGB (3 channel) - (256 x 256)\n",
    "alexnet = models.alexnet(pretrained=True)"
   ]
  },
  {
   "cell_type": "code",
   "execution_count": null,
   "metadata": {},
   "outputs": [],
   "source": [
    "alexnet"
   ]
  },
  {
   "cell_type": "code",
   "execution_count": null,
   "metadata": {},
   "outputs": [],
   "source": [
    "alexnet.classifier"
   ]
  },
  {
   "cell_type": "code",
   "execution_count": null,
   "metadata": {},
   "outputs": [],
   "source": [
    "transform = transforms.Compose([\n",
    "    transforms.Resize(256),\n",
    "    transforms.CenterCrop(256),\n",
    "    transforms.ToTensor(),\n",
    "    transforms.Normalize(mean=[0.485, 0.456, 0.406], std=[0.229, 0.224, 0.225])\n",
    "])\n",
    "\n",
    "def get_loader(path, transform, batch_size):\n",
    "    dataset = torchvision.datasets.ImageFolder(\n",
    "        root = path,\n",
    "        transform=transform\n",
    "    )\n",
    "    loader = torch.utils.data.DataLoader(\n",
    "        dataset,\n",
    "        batch_size=batch_size,\n",
    "        num_workers=0,\n",
    "        shuffle=True\n",
    "    )\n",
    "    return loader"
   ]
  },
  {
   "cell_type": "code",
   "execution_count": null,
   "metadata": {},
   "outputs": [],
   "source": [
    "train_loader = get_loader(train_data_path, transform, BATCH_SIZE)"
   ]
  },
  {
   "cell_type": "code",
   "execution_count": null,
   "metadata": {},
   "outputs": [],
   "source": [
    "x, y = next(iter(train_loader))\n",
    "\n",
    "display(y)\n",
    "display(y.shape)"
   ]
  },
  {
   "cell_type": "code",
   "execution_count": null,
   "metadata": {},
   "outputs": [],
   "source": [
    "output = alexnet(x)\n",
    "display(output)"
   ]
  },
  {
   "cell_type": "code",
   "execution_count": null,
   "metadata": {},
   "outputs": [],
   "source": [
    "output.shape"
   ]
  },
  {
   "cell_type": "code",
   "execution_count": null,
   "metadata": {},
   "outputs": [],
   "source": [
    "# https://gist.github.com/yrevar/942d3a0ac09ec9e5eb3a\n",
    "output.max(1)"
   ]
  },
  {
   "cell_type": "code",
   "execution_count": null,
   "metadata": {},
   "outputs": [],
   "source": [
    "plt.imshow(x[1].permute(1, 2, 0))"
   ]
  },
  {
   "cell_type": "code",
   "execution_count": null,
   "metadata": {},
   "outputs": [],
   "source": [
    "newClassifier = torch.nn.Sequential(\n",
    "    torch.nn.Linear(9216, 4096),\n",
    "    torch.nn.ReLU(),\n",
    "    torch.nn.Linear(4096, 1024),\n",
    "    torch.nn.ReLU(),\n",
    "    torch.nn.Linear(1024, 2)\n",
    ")\n",
    "alexnet.classfier = newClassifier\n",
    "\n",
    "display(alexnet)"
   ]
  },
  {
   "cell_type": "code",
   "execution_count": null,
   "metadata": {},
   "outputs": [],
   "source": [
    "criteria = F.cross_entropy\n",
    "alexnet = alexnet.cuda()\n",
    "\n",
    "optimizer = torch.optim.Adam(alexnet.parameters(), lr=LEARNING_RATE)\n",
    "\n",
    "loss_sum = torch.tensor(0, dtype=torch.float32)\n",
    "for epoch in range(EPOCHS):\n",
    "    print(\"{} epoch\".format(epoch))\n",
    "    for x, y in train_loader:\n",
    "        output = alexnet(x.cuda())\n",
    "        loss = criteria(output, y.cuda())\n",
    "\n",
    "        loss_sum += loss.detach().item()\n",
    "        \n",
    "        optimizer.zero_grad()\n",
    "        loss.backward()\n",
    "        optimizer.step()\n",
    "    print(\"\\t{}\".format(loss_sum.mean()))\n",
    "    loss_sum = torch.tensor(0, dtype=torch.float32)"
   ]
  },
  {
   "cell_type": "code",
   "execution_count": null,
   "metadata": {},
   "outputs": [],
   "source": [
    "test_loader = get_loader(test_data_path, transform, BATCH_SIZE)\n",
    "\n",
    "total = correct = 0\n",
    "for x, y in test_loader:\n",
    "    output = alexnet(x.cuda())\n",
    "    val, pred_idx = output.max(1)\n",
    "    correct += (pred_idx == y.cuda()).sum().item()\n",
    "    total += val.shape[0]\n",
    "\n",
    "print (\"correct : {} // total : {}\".format(correct, total))\n",
    "print (\"accuracy: {}\".format(correct / total))"
   ]
  },
  {
   "cell_type": "markdown",
   "metadata": {},
   "source": [
    "<pre>\n",
    "0 epoch\n",
    "\t48.37724685668945\n",
    "1 epoch\n",
    "\t11.3847074508667\n",
    "2 epoch\n",
    "\t8.798026084899902\n",
    "3 epoch\n",
    "\t8.464077949523926\n",
    "4 epoch\n",
    "\t5.918179988861084\n",
    "5 epoch\n",
    "\t4.535010814666748\n",
    "6 epoch\n",
    "\t3.8624236583709717\n",
    "7 epoch\n",
    "\t2.679931879043579\n",
    "8 epoch\n",
    "\t2.0708656311035156\n",
    "9 epoch\n",
    "\t1.6488384008407593\n",
    "10 epoch\n",
    "\t1.4238102436065674\n",
    "11 epoch\n",
    "\t2.2943739891052246\n",
    "12 epoch\n",
    "\t1.8169094324111938\n",
    "13 epoch\n",
    "\t0.7539398670196533\n",
    "14 epoch\n",
    "\t0.5866746306419373\n",
    "15 epoch\n",
    "\t1.1908200979232788\n",
    "16 epoch\n",
    "\t1.81795072555542\n",
    "17 epoch\n",
    "\t0.9758766293525696\n",
    "18 epoch\n",
    "\t0.577001690864563\n",
    "19 epoch\n",
    "\t0.4210895895957947\n",
    "20 epoch\n",
    "\t0.3758643567562103\n",
    "21 epoch\n",
    "\t0.3736495077610016\n",
    "22 epoch\n",
    "\t0.715544581413269\n",
    "23 epoch\n",
    "\t1.090682864189148\n",
    "24 epoch\n",
    "\t1.150400996208191\n",
    "25 epoch\n",
    "\t0.29149603843688965\n",
    "26 epoch\n",
    "\t0.3663492202758789\n",
    "27 epoch\n",
    "\t0.19721843302249908\n",
    "28 epoch\n",
    "\t0.1039135679602623\n",
    "29 epoch\n",
    "\t0.35430073738098145\n",
    "\n",
    "\n",
    "correct : 720 // total : 804\n",
    "accuracy: 0.8955223880597015\n",
    "</pre>"
   ]
  }
 ],
 "metadata": {
  "kernelspec": {
   "display_name": "Python 3",
   "language": "python",
   "name": "python3"
  },
  "language_info": {
   "codemirror_mode": {
    "name": "ipython",
    "version": 3
   },
   "file_extension": ".py",
   "mimetype": "text/x-python",
   "name": "python",
   "nbconvert_exporter": "python",
   "pygments_lexer": "ipython3",
   "version": "3.6.9"
  }
 },
 "nbformat": 4,
 "nbformat_minor": 2
}
