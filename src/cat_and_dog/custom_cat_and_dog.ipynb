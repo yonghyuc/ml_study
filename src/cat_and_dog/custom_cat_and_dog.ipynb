{
 "cells": [
  {
   "cell_type": "code",
   "execution_count": null,
   "metadata": {},
   "outputs": [],
   "source": [
    "import torch\n",
    "import torch.nn as nn\n",
    "import torch.nn.functional as F\n",
    "import torchvision\n",
    "import torchvision.models as models\n",
    "from torchvision import transforms\n",
    "import os"
   ]
  },
  {
   "cell_type": "code",
   "execution_count": null,
   "metadata": {},
   "outputs": [],
   "source": [
    "train_data_path = \"../../data/cat_and_dog/train\"\n",
    "test_data_path = \"../../data/cat_and_dog/validation\"\n",
    "\n",
    "model_path = '../../model/cat_and_dog/'\n",
    "\n",
    "LEARNING_RATE = 5e-4\n",
    "EPOCHS = 30\n",
    "BATCH_SIZE = 50"
   ]
  },
  {
   "cell_type": "code",
   "execution_count": null,
   "metadata": {},
   "outputs": [],
   "source": [
    "class CatAndDog(nn.Module):\n",
    "    def __init__(self, ic=3, channels=(32, 64, 32, 8), kernels=(3, 3, 3, 3)):\n",
    "        super(CatAndDog, self).__init__()\n",
    "\n",
    "        self.conv_layers = nn.ModuleList()\n",
    "\n",
    "        in_ch = ic\n",
    "        for c, k in zip(channels, kernels):\n",
    "            self.conv_layers.append(nn.Conv2d(in_ch, c, k))\n",
    "            self.conv_layers.append(nn.BatchNorm2d(c))\n",
    "            self.conv_layers.append(nn.ReLU())\n",
    "            self.conv_layers.append(nn.MaxPool2d(2))\n",
    "            in_ch = c\n",
    "\n",
    "        self.linear_layers = nn.ModuleList()\n",
    "        self.linear_layers.append(nn.Linear(8*14*14, 100))\n",
    "        self.linear_layers.append(nn.ReLU())\n",
    "        self.linear_layers.append(nn.Linear(100, 2))\n",
    "        # self.linear_layers.append(nn.Softmax())\n",
    "\n",
    "    def forward(self, x):\n",
    "        for layer in self.conv_layers:\n",
    "            x = layer(x)\n",
    "        x = x.reshape(x.size(0), -1)\n",
    "\n",
    "        for layer in self.linear_layers:\n",
    "            x = layer(x)\n",
    "        return x"
   ]
  },
  {
   "cell_type": "code",
   "execution_count": null,
   "metadata": {},
   "outputs": [],
   "source": [
    "transform = transforms.Compose([\n",
    "    transforms.Resize(256),\n",
    "    transforms.CenterCrop(256),\n",
    "    transforms.ToTensor(),\n",
    "    transforms.Normalize(mean=[0.485, 0.456, 0.406], std=[0.229, 0.224, 0.225])\n",
    "])\n",
    "\n",
    "def get_loader(path, transform, batch_size):\n",
    "    dataset = torchvision.datasets.ImageFolder(\n",
    "        root = path,\n",
    "        transform=transform\n",
    "    )\n",
    "    loader = torch.utils.data.DataLoader(\n",
    "        dataset,\n",
    "        batch_size=batch_size,\n",
    "        num_workers=0,\n",
    "        shuffle=True\n",
    "    )\n",
    "    return loader"
   ]
  },
  {
   "cell_type": "code",
   "execution_count": null,
   "metadata": {},
   "outputs": [],
   "source": [
    "train_loader = get_loader(train_data_path, transform, BATCH_SIZE)"
   ]
  },
  {
   "cell_type": "code",
   "execution_count": null,
   "metadata": {
    "scrolled": true
   },
   "outputs": [],
   "source": [
    "criteria = F.cross_entropy\n",
    "module = CatAndDog().cuda()\n",
    "\n",
    "optimizer = torch.optim.Adam(module.parameters(), lr=LEARNING_RATE)\n",
    "\n",
    "loss_sum = torch.tensor(0, dtype=torch.float32)\n",
    "for epoch in range(EPOCHS):\n",
    "    print(\"{} epoch\".format(epoch))\n",
    "    for x, y in train_loader:\n",
    "        output = module(x.cuda())\n",
    "        loss = criteria(output, y.cuda())\n",
    "\n",
    "        loss_sum += loss.detach().item()\n",
    "        \n",
    "        optimizer.zero_grad()\n",
    "        loss.backward()\n",
    "        optimizer.step()\n",
    "    print(\"\\t{}\".format(loss_sum.mean()))\n",
    "    loss_sum = torch.tensor(0, dtype=torch.float32)"
   ]
  },
  {
   "cell_type": "code",
   "execution_count": null,
   "metadata": {},
   "outputs": [],
   "source": [
    "torch.save(module.state_dict(), os.path.join(model_path, 'custom.pth'))"
   ]
  },
  {
   "cell_type": "code",
   "execution_count": null,
   "metadata": {},
   "outputs": [],
   "source": [
    "# module = CatAndDog()\n",
    "# module.load_state_dict(torch.load(os.path.join(model_path, 'custom.pth')))\n",
    "# module = module.cuda()"
   ]
  },
  {
   "cell_type": "code",
   "execution_count": null,
   "metadata": {},
   "outputs": [],
   "source": [
    "test_loader = get_loader(test_data_path, transform, BATCH_SIZE)\n",
    "\n",
    "total = correct = 0\n",
    "for x, y in test_loader:\n",
    "    output = module(x.cuda())\n",
    "\n",
    "    val, pred_idx = output.max(1)\n",
    "    correct += (pred_idx == y.cuda()).sum().item()\n",
    "    total += val.shape[0]\n",
    "\n",
    "print (\"correct : {} // total : {}\".format(correct, total))\n",
    "print (\"accuracy: {}\".format(correct / total))"
   ]
  },
  {
   "cell_type": "markdown",
   "metadata": {},
   "source": [
    "<pre>\n",
    "0 epoch\n",
    "\t26.269121170043945\n",
    "1 epoch\n",
    "\t22.54401397705078\n",
    "2 epoch\n",
    "\t19.70692253112793\n",
    "3 epoch\n",
    "\t17.80558967590332\n",
    "4 epoch\n",
    "\t15.526264190673828\n",
    "5 epoch\n",
    "\t14.089925765991211\n",
    "6 epoch\n",
    "\t13.086111068725586\n",
    "7 epoch\n",
    "\t11.234223365783691\n",
    "8 epoch\n",
    "\t9.514725685119629\n",
    "9 epoch\n",
    "\t8.090290069580078\n",
    "10 epoch\n",
    "\t7.891892433166504\n",
    "11 epoch\n",
    "\t6.033896446228027\n",
    "12 epoch\n",
    "\t5.001809120178223\n",
    "13 epoch\n",
    "\t4.299685001373291\n",
    "14 epoch\n",
    "\t4.592019557952881\n",
    "15 epoch\n",
    "\t3.125213861465454\n",
    "16 epoch\n",
    "\t1.906551718711853\n",
    "17 epoch\n",
    "\t2.056344985961914\n",
    "18 epoch\n",
    "\t2.333315372467041\n",
    "19 epoch\n",
    "\t1.6180298328399658\n",
    "20 epoch\n",
    "\t1.0541620254516602\n",
    "21 epoch\n",
    "\t0.9271639585494995\n",
    "22 epoch\n",
    "\t0.8449956178665161\n",
    "23 epoch\n",
    "\t0.5367169976234436\n",
    "24 epoch\n",
    "\t0.347711980342865\n",
    "25 epoch\n",
    "\t0.23818166553974152\n",
    "26 epoch\n",
    "\t0.22533170878887177\n",
    "27 epoch\n",
    "\t0.2599599063396454\n",
    "28 epoch\n",
    "\t0.1610652059316635\n",
    "29 epoch\n",
    "\t0.1274682730436325\n",
    "    \n",
    "correct : 602 // total : 804\n",
    "accuracy: 0.7487562189054726\n",
    "</pre>"
   ]
  }
 ],
 "metadata": {
  "kernelspec": {
   "display_name": "Python 3",
   "language": "python",
   "name": "python3"
  },
  "language_info": {
   "codemirror_mode": {
    "name": "ipython",
    "version": 3
   },
   "file_extension": ".py",
   "mimetype": "text/x-python",
   "name": "python",
   "nbconvert_exporter": "python",
   "pygments_lexer": "ipython3",
   "version": "3.6.9"
  }
 },
 "nbformat": 4,
 "nbformat_minor": 2
}
