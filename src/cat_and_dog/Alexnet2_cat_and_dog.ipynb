{
 "cells": [
  {
   "cell_type": "code",
   "execution_count": 1,
   "metadata": {},
   "outputs": [],
   "source": [
    "import torch\n",
    "import torch.nn\n",
    "import torch.nn.functional as F\n",
    "import torchvision\n",
    "import torchvision.models as models\n",
    "from torchvision import transforms\n",
    "import matplotlib.pyplot as plt"
   ]
  },
  {
   "cell_type": "code",
   "execution_count": 2,
   "metadata": {},
   "outputs": [],
   "source": [
    "train_data_path = \"../../data/cat_and_dog/train\"\n",
    "test_data_path = \"../../data/cat_and_dog/validation\"\n",
    "\n",
    "LEARNING_RATE = 5e-4\n",
    "EPOCHS = 30\n",
    "BATCH_SIZE = 100"
   ]
  },
  {
   "cell_type": "code",
   "execution_count": 3,
   "metadata": {},
   "outputs": [],
   "source": [
    "# RGB (3 channel) - (256 x 256)\n",
    "alexnet = models.alexnet(pretrained=True)"
   ]
  },
  {
   "cell_type": "code",
   "execution_count": null,
   "metadata": {},
   "outputs": [],
   "source": [
    "alexnet"
   ]
  },
  {
   "cell_type": "code",
   "execution_count": null,
   "metadata": {},
   "outputs": [],
   "source": [
    "alexnet.classifier"
   ]
  },
  {
   "cell_type": "code",
   "execution_count": 4,
   "metadata": {},
   "outputs": [],
   "source": [
    "transform = transforms.Compose([\n",
    "    transforms.Resize(256),\n",
    "    transforms.CenterCrop(256),\n",
    "    transforms.ToTensor(),\n",
    "    transforms.Normalize(mean=[0.485, 0.456, 0.406], std=[0.229, 0.224, 0.225])\n",
    "])\n",
    "\n",
    "def get_loader(path, transform, batch_size):\n",
    "    dataset = torchvision.datasets.ImageFolder(\n",
    "        root = path,\n",
    "        transform=transform\n",
    "    )\n",
    "    loader = torch.utils.data.DataLoader(\n",
    "        dataset,\n",
    "        batch_size=batch_size,\n",
    "        num_workers=0,\n",
    "        shuffle=True\n",
    "    )\n",
    "    return loader"
   ]
  },
  {
   "cell_type": "code",
   "execution_count": 5,
   "metadata": {},
   "outputs": [],
   "source": [
    "train_loader = get_loader(train_data_path, transform, BATCH_SIZE)"
   ]
  },
  {
   "cell_type": "code",
   "execution_count": null,
   "metadata": {},
   "outputs": [],
   "source": [
    "x, y = next(iter(train_loader))\n",
    "\n",
    "display(y)\n",
    "display(y.shape)"
   ]
  },
  {
   "cell_type": "code",
   "execution_count": null,
   "metadata": {},
   "outputs": [],
   "source": [
    "output = alexnet(x)\n",
    "display(output)"
   ]
  },
  {
   "cell_type": "code",
   "execution_count": null,
   "metadata": {},
   "outputs": [],
   "source": [
    "output.shape"
   ]
  },
  {
   "cell_type": "code",
   "execution_count": null,
   "metadata": {},
   "outputs": [],
   "source": [
    "# https://gist.github.com/yrevar/942d3a0ac09ec9e5eb3a\n",
    "output.max(1)"
   ]
  },
  {
   "cell_type": "code",
   "execution_count": null,
   "metadata": {},
   "outputs": [],
   "source": [
    "plt.imshow(x[1].permute(1, 2, 0))"
   ]
  },
  {
   "cell_type": "code",
   "execution_count": 6,
   "metadata": {},
   "outputs": [
    {
     "data": {
      "text/plain": [
       "AlexNet(\n",
       "  (features): Sequential(\n",
       "    (0): Conv2d(3, 64, kernel_size=(11, 11), stride=(4, 4), padding=(2, 2))\n",
       "    (1): ReLU(inplace)\n",
       "    (2): MaxPool2d(kernel_size=3, stride=2, padding=0, dilation=1, ceil_mode=False)\n",
       "    (3): Conv2d(64, 192, kernel_size=(5, 5), stride=(1, 1), padding=(2, 2))\n",
       "    (4): ReLU(inplace)\n",
       "    (5): MaxPool2d(kernel_size=3, stride=2, padding=0, dilation=1, ceil_mode=False)\n",
       "    (6): Conv2d(192, 384, kernel_size=(3, 3), stride=(1, 1), padding=(1, 1))\n",
       "    (7): ReLU(inplace)\n",
       "    (8): Conv2d(384, 256, kernel_size=(3, 3), stride=(1, 1), padding=(1, 1))\n",
       "    (9): ReLU(inplace)\n",
       "    (10): Conv2d(256, 256, kernel_size=(3, 3), stride=(1, 1), padding=(1, 1))\n",
       "    (11): ReLU(inplace)\n",
       "    (12): MaxPool2d(kernel_size=3, stride=2, padding=0, dilation=1, ceil_mode=False)\n",
       "  )\n",
       "  (avgpool): AdaptiveAvgPool2d(output_size=(6, 6))\n",
       "  (classifier): Identity()\n",
       ")"
      ]
     },
     "metadata": {},
     "output_type": "display_data"
    },
    {
     "data": {
      "text/plain": [
       "Sequential(\n",
       "  (0): Linear(in_features=9216, out_features=4096, bias=True)\n",
       "  (1): ReLU()\n",
       "  (2): Linear(in_features=4096, out_features=1024, bias=True)\n",
       "  (3): ReLU()\n",
       "  (4): Linear(in_features=1024, out_features=2, bias=True)\n",
       ")"
      ]
     },
     "metadata": {},
     "output_type": "display_data"
    }
   ],
   "source": [
    "alexnet.classifier = torch.nn.Identity()\n",
    "\n",
    "after_alex = torch.nn.Sequential(\n",
    "    torch.nn.Linear(9216, 4096),\n",
    "    torch.nn.ReLU(),\n",
    "    torch.nn.Linear(4096, 1024),\n",
    "    torch.nn.ReLU(),\n",
    "    torch.nn.Linear(1024, 2)\n",
    ")\n",
    "\n",
    "display(alexnet)\n",
    "display(after_alex)"
   ]
  },
  {
   "cell_type": "code",
   "execution_count": 7,
   "metadata": {
    "scrolled": true
   },
   "outputs": [
    {
     "name": "stdout",
     "output_type": "stream",
     "text": [
      "0 epoch\n",
      "\t34.52383041381836\n",
      "1 epoch\n",
      "\t2.2854971885681152\n",
      "2 epoch\n",
      "\t1.2044789791107178\n",
      "3 epoch\n",
      "\t0.5521777868270874\n",
      "4 epoch\n",
      "\t0.2547612488269806\n",
      "5 epoch\n",
      "\t0.09210491180419922\n",
      "6 epoch\n",
      "\t0.03479543700814247\n",
      "7 epoch\n",
      "\t0.01003146730363369\n",
      "8 epoch\n",
      "\t0.005586165003478527\n",
      "9 epoch\n",
      "\t0.004092842806130648\n",
      "10 epoch\n",
      "\t0.00307043781504035\n",
      "11 epoch\n",
      "\t0.0024808431044220924\n",
      "12 epoch\n",
      "\t0.0020664262119680643\n",
      "13 epoch\n",
      "\t0.0017626928165555\n",
      "14 epoch\n",
      "\t0.0015110159292817116\n",
      "15 epoch\n",
      "\t0.0013028169050812721\n",
      "16 epoch\n",
      "\t0.0011368608102202415\n",
      "17 epoch\n",
      "\t0.0009824037551879883\n",
      "18 epoch\n",
      "\t0.0008366918191313744\n",
      "19 epoch\n",
      "\t0.0006944608758203685\n",
      "20 epoch\n",
      "\t0.0005627321661449969\n",
      "21 epoch\n",
      "\t0.00044750457163900137\n",
      "22 epoch\n",
      "\t0.000352485163602978\n",
      "23 epoch\n",
      "\t0.00027527802740223706\n",
      "24 epoch\n",
      "\t0.00021530153753701597\n",
      "25 epoch\n",
      "\t0.00016607044381089509\n",
      "26 epoch\n",
      "\t0.00013195992505643517\n",
      "27 epoch\n",
      "\t0.00010523318633204326\n",
      "28 epoch\n",
      "\t8.606433402746916e-05\n",
      "29 epoch\n",
      "\t7.145165727706626e-05\n"
     ]
    }
   ],
   "source": [
    "criteria = F.cross_entropy\n",
    "alexnet = alexnet.cuda()\n",
    "after_alex = after_alex.cuda()\n",
    "\n",
    "optimizer = torch.optim.Adam(after_alex.parameters(), lr=LEARNING_RATE)\n",
    "\n",
    "loss_sum = torch.tensor(0, dtype=torch.float32)\n",
    "for epoch in range(EPOCHS):\n",
    "    print(\"{} epoch\".format(epoch))\n",
    "    for x, y in train_loader:\n",
    "        output = alexnet(x.cuda())\n",
    "        output = after_alex(output)\n",
    "        \n",
    "        loss = criteria(output, y.cuda())\n",
    "\n",
    "        loss_sum += loss.detach().item()\n",
    "        \n",
    "        optimizer.zero_grad()\n",
    "        loss.backward()\n",
    "        optimizer.step()\n",
    "    print(\"\\t{}\".format(loss_sum.mean()))\n",
    "    loss_sum = torch.tensor(0, dtype=torch.float32)"
   ]
  },
  {
   "cell_type": "code",
   "execution_count": 8,
   "metadata": {},
   "outputs": [
    {
     "name": "stdout",
     "output_type": "stream",
     "text": [
      "correct : 764 // total : 804\n",
      "accuracy: 0.9502487562189055\n"
     ]
    }
   ],
   "source": [
    "test_loader = get_loader(test_data_path, transform, BATCH_SIZE)\n",
    "\n",
    "total = correct = 0\n",
    "for x, y in test_loader:\n",
    "    output = alexnet(x.cuda())\n",
    "    output = after_alex(output)\n",
    "    \n",
    "    val, pred_idx = output.max(1)\n",
    "    correct += (pred_idx == y.cuda()).sum().item()\n",
    "    total += val.shape[0]\n",
    "\n",
    "print (\"correct : {} // total : {}\".format(correct, total))\n",
    "print (\"accuracy: {}\".format(correct / total))"
   ]
  },
  {
   "cell_type": "markdown",
   "metadata": {},
   "source": [
    "<pre>\n",
    "0 epoch\n",
    "\t48.37724685668945\n",
    "1 epoch\n",
    "\t11.3847074508667\n",
    "2 epoch\n",
    "\t8.798026084899902\n",
    "3 epoch\n",
    "\t8.464077949523926\n",
    "4 epoch\n",
    "\t5.918179988861084\n",
    "5 epoch\n",
    "\t4.535010814666748\n",
    "6 epoch\n",
    "\t3.8624236583709717\n",
    "7 epoch\n",
    "\t2.679931879043579\n",
    "8 epoch\n",
    "\t2.0708656311035156\n",
    "9 epoch\n",
    "\t1.6488384008407593\n",
    "10 epoch\n",
    "\t1.4238102436065674\n",
    "11 epoch\n",
    "\t2.2943739891052246\n",
    "12 epoch\n",
    "\t1.8169094324111938\n",
    "13 epoch\n",
    "\t0.7539398670196533\n",
    "14 epoch\n",
    "\t0.5866746306419373\n",
    "15 epoch\n",
    "\t1.1908200979232788\n",
    "16 epoch\n",
    "\t1.81795072555542\n",
    "17 epoch\n",
    "\t0.9758766293525696\n",
    "18 epoch\n",
    "\t0.577001690864563\n",
    "19 epoch\n",
    "\t0.4210895895957947\n",
    "20 epoch\n",
    "\t0.3758643567562103\n",
    "21 epoch\n",
    "\t0.3736495077610016\n",
    "22 epoch\n",
    "\t0.715544581413269\n",
    "23 epoch\n",
    "\t1.090682864189148\n",
    "24 epoch\n",
    "\t1.150400996208191\n",
    "25 epoch\n",
    "\t0.29149603843688965\n",
    "26 epoch\n",
    "\t0.3663492202758789\n",
    "27 epoch\n",
    "\t0.19721843302249908\n",
    "28 epoch\n",
    "\t0.1039135679602623\n",
    "29 epoch\n",
    "\t0.35430073738098145\n",
    "\n",
    "\n",
    "correct : 720 // total : 804\n",
    "accuracy: 0.8955223880597015\n",
    "</pre>"
   ]
  },
  {
   "cell_type": "markdown",
   "metadata": {},
   "source": [
    "<pre>\n",
    "0 epoch\n",
    "\t34.52383041381836\n",
    "1 epoch\n",
    "\t2.2854971885681152\n",
    "2 epoch\n",
    "\t1.2044789791107178\n",
    "3 epoch\n",
    "\t0.5521777868270874\n",
    "4 epoch\n",
    "\t0.2547612488269806\n",
    "5 epoch\n",
    "\t0.09210491180419922\n",
    "6 epoch\n",
    "\t0.03479543700814247\n",
    "7 epoch\n",
    "\t0.01003146730363369\n",
    "8 epoch\n",
    "\t0.005586165003478527\n",
    "9 epoch\n",
    "\t0.004092842806130648\n",
    "10 epoch\n",
    "\t0.00307043781504035\n",
    "11 epoch\n",
    "\t0.0024808431044220924\n",
    "12 epoch\n",
    "\t0.0020664262119680643\n",
    "13 epoch\n",
    "\t0.0017626928165555\n",
    "14 epoch\n",
    "\t0.0015110159292817116\n",
    "15 epoch\n",
    "\t0.0013028169050812721\n",
    "16 epoch\n",
    "\t0.0011368608102202415\n",
    "17 epoch\n",
    "\t0.0009824037551879883\n",
    "18 epoch\n",
    "\t0.0008366918191313744\n",
    "19 epoch\n",
    "\t0.0006944608758203685\n",
    "20 epoch\n",
    "\t0.0005627321661449969\n",
    "21 epoch\n",
    "\t0.00044750457163900137\n",
    "22 epoch\n",
    "\t0.000352485163602978\n",
    "23 epoch\n",
    "\t0.00027527802740223706\n",
    "24 epoch\n",
    "\t0.00021530153753701597\n",
    "25 epoch\n",
    "\t0.00016607044381089509\n",
    "26 epoch\n",
    "\t0.00013195992505643517\n",
    "27 epoch\n",
    "\t0.00010523318633204326\n",
    "28 epoch\n",
    "\t8.606433402746916e-05\n",
    "29 epoch\n",
    "\t7.145165727706626e-05\n",
    "\n",
    "    \n",
    "correct : 764 // total : 804\n",
    "accuracy: 0.9502487562189055\n",
    "</pre>"
   ]
  },
  {
   "cell_type": "code",
   "execution_count": null,
   "metadata": {},
   "outputs": [],
   "source": []
  }
 ],
 "metadata": {
  "kernelspec": {
   "display_name": "Python 3",
   "language": "python",
   "name": "python3"
  },
  "language_info": {
   "codemirror_mode": {
    "name": "ipython",
    "version": 3
   },
   "file_extension": ".py",
   "mimetype": "text/x-python",
   "name": "python",
   "nbconvert_exporter": "python",
   "pygments_lexer": "ipython3",
   "version": "3.6.9"
  }
 },
 "nbformat": 4,
 "nbformat_minor": 2
}
