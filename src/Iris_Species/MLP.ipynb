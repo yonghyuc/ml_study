{
 "cells": [
  {
   "cell_type": "code",
   "execution_count": 35,
   "metadata": {},
   "outputs": [],
   "source": [
    "import torch\n",
    "import torch.nn as nn\n",
    "\n",
    "import pandas as pd\n",
    "\n",
    "import sklearn as skl"
   ]
  },
  {
   "cell_type": "code",
   "execution_count": 89,
   "metadata": {},
   "outputs": [],
   "source": [
    "class IrisModule(nn.Module):\n",
    "    def __init__(self):\n",
    "        super(IrisModule, self).__init__()\n",
    "        \n",
    "        self.layers = nn.Sequential(\n",
    "            nn.BatchNorm1d(4),\n",
    "            nn.Linear(4, 7),\n",
    "            nn.ReLU(),\n",
    "            nn.Linear(7, 3)\n",
    "        )\n",
    "    \n",
    "    def forward(self, x):\n",
    "        return self.layers(x)"
   ]
  },
  {
   "cell_type": "code",
   "execution_count": 40,
   "metadata": {},
   "outputs": [],
   "source": [
    "data = pd.read_csv('../../data/Iris_Species/Iris.csv')\n",
    "data = skl.utils.shuffle(data)"
   ]
  },
  {
   "cell_type": "code",
   "execution_count": 41,
   "metadata": {},
   "outputs": [
    {
     "data": {
      "text/html": [
       "<div>\n",
       "<style scoped>\n",
       "    .dataframe tbody tr th:only-of-type {\n",
       "        vertical-align: middle;\n",
       "    }\n",
       "\n",
       "    .dataframe tbody tr th {\n",
       "        vertical-align: top;\n",
       "    }\n",
       "\n",
       "    .dataframe thead th {\n",
       "        text-align: right;\n",
       "    }\n",
       "</style>\n",
       "<table border=\"1\" class=\"dataframe\">\n",
       "  <thead>\n",
       "    <tr style=\"text-align: right;\">\n",
       "      <th></th>\n",
       "      <th>Id</th>\n",
       "      <th>SepalLengthCm</th>\n",
       "      <th>SepalWidthCm</th>\n",
       "      <th>PetalLengthCm</th>\n",
       "      <th>PetalWidthCm</th>\n",
       "      <th>Species</th>\n",
       "    </tr>\n",
       "  </thead>\n",
       "  <tbody>\n",
       "    <tr>\n",
       "      <th>69</th>\n",
       "      <td>70</td>\n",
       "      <td>5.6</td>\n",
       "      <td>2.5</td>\n",
       "      <td>3.9</td>\n",
       "      <td>1.1</td>\n",
       "      <td>Iris-versicolor</td>\n",
       "    </tr>\n",
       "    <tr>\n",
       "      <th>141</th>\n",
       "      <td>142</td>\n",
       "      <td>6.9</td>\n",
       "      <td>3.1</td>\n",
       "      <td>5.1</td>\n",
       "      <td>2.3</td>\n",
       "      <td>Iris-virginica</td>\n",
       "    </tr>\n",
       "    <tr>\n",
       "      <th>83</th>\n",
       "      <td>84</td>\n",
       "      <td>6.0</td>\n",
       "      <td>2.7</td>\n",
       "      <td>5.1</td>\n",
       "      <td>1.6</td>\n",
       "      <td>Iris-versicolor</td>\n",
       "    </tr>\n",
       "    <tr>\n",
       "      <th>26</th>\n",
       "      <td>27</td>\n",
       "      <td>5.0</td>\n",
       "      <td>3.4</td>\n",
       "      <td>1.6</td>\n",
       "      <td>0.4</td>\n",
       "      <td>Iris-setosa</td>\n",
       "    </tr>\n",
       "    <tr>\n",
       "      <th>81</th>\n",
       "      <td>82</td>\n",
       "      <td>5.5</td>\n",
       "      <td>2.4</td>\n",
       "      <td>3.7</td>\n",
       "      <td>1.0</td>\n",
       "      <td>Iris-versicolor</td>\n",
       "    </tr>\n",
       "  </tbody>\n",
       "</table>\n",
       "</div>"
      ],
      "text/plain": [
       "      Id  SepalLengthCm  SepalWidthCm  PetalLengthCm  PetalWidthCm  \\\n",
       "69    70            5.6           2.5            3.9           1.1   \n",
       "141  142            6.9           3.1            5.1           2.3   \n",
       "83    84            6.0           2.7            5.1           1.6   \n",
       "26    27            5.0           3.4            1.6           0.4   \n",
       "81    82            5.5           2.4            3.7           1.0   \n",
       "\n",
       "             Species  \n",
       "69   Iris-versicolor  \n",
       "141   Iris-virginica  \n",
       "83   Iris-versicolor  \n",
       "26       Iris-setosa  \n",
       "81   Iris-versicolor  "
      ]
     },
     "execution_count": 41,
     "metadata": {},
     "output_type": "execute_result"
    }
   ],
   "source": [
    "data.sample(5)"
   ]
  },
  {
   "cell_type": "code",
   "execution_count": 54,
   "metadata": {},
   "outputs": [],
   "source": [
    "def to_numerical_category(name):\n",
    "    if name == 'Iris-setosa':\n",
    "        return 0\n",
    "    elif name == 'Iris-versicolor':\n",
    "        return 1\n",
    "    elif name == 'Iris-virginica':\n",
    "        return 2\n",
    "    else:\n",
    "        raise NotImplementedError"
   ]
  },
  {
   "cell_type": "code",
   "execution_count": 55,
   "metadata": {},
   "outputs": [],
   "source": [
    "label = [to_numerical_category(name) for name in data['Species']]"
   ]
  },
  {
   "cell_type": "code",
   "execution_count": 56,
   "metadata": {},
   "outputs": [
    {
     "data": {
      "text/plain": [
       "[(2, 'Iris-virginica'),\n",
       " (1, 'Iris-versicolor'),\n",
       " (1, 'Iris-versicolor'),\n",
       " (2, 'Iris-virginica'),\n",
       " (0, 'Iris-setosa'),\n",
       " (0, 'Iris-setosa'),\n",
       " (2, 'Iris-virginica'),\n",
       " (1, 'Iris-versicolor'),\n",
       " (0, 'Iris-setosa'),\n",
       " (0, 'Iris-setosa'),\n",
       " (2, 'Iris-virginica'),\n",
       " (0, 'Iris-setosa'),\n",
       " (0, 'Iris-setosa'),\n",
       " (1, 'Iris-versicolor'),\n",
       " (2, 'Iris-virginica'),\n",
       " (0, 'Iris-setosa'),\n",
       " (1, 'Iris-versicolor'),\n",
       " (1, 'Iris-versicolor'),\n",
       " (0, 'Iris-setosa'),\n",
       " (0, 'Iris-setosa'),\n",
       " (2, 'Iris-virginica'),\n",
       " (1, 'Iris-versicolor'),\n",
       " (0, 'Iris-setosa'),\n",
       " (1, 'Iris-versicolor'),\n",
       " (2, 'Iris-virginica'),\n",
       " (2, 'Iris-virginica'),\n",
       " (1, 'Iris-versicolor'),\n",
       " (0, 'Iris-setosa'),\n",
       " (2, 'Iris-virginica'),\n",
       " (1, 'Iris-versicolor'),\n",
       " (0, 'Iris-setosa'),\n",
       " (0, 'Iris-setosa'),\n",
       " (0, 'Iris-setosa'),\n",
       " (2, 'Iris-virginica'),\n",
       " (0, 'Iris-setosa'),\n",
       " (1, 'Iris-versicolor'),\n",
       " (1, 'Iris-versicolor'),\n",
       " (2, 'Iris-virginica'),\n",
       " (1, 'Iris-versicolor'),\n",
       " (2, 'Iris-virginica'),\n",
       " (1, 'Iris-versicolor'),\n",
       " (1, 'Iris-versicolor'),\n",
       " (2, 'Iris-virginica'),\n",
       " (2, 'Iris-virginica'),\n",
       " (1, 'Iris-versicolor'),\n",
       " (0, 'Iris-setosa'),\n",
       " (1, 'Iris-versicolor'),\n",
       " (0, 'Iris-setosa'),\n",
       " (1, 'Iris-versicolor'),\n",
       " (0, 'Iris-setosa'),\n",
       " (1, 'Iris-versicolor'),\n",
       " (0, 'Iris-setosa'),\n",
       " (2, 'Iris-virginica'),\n",
       " (2, 'Iris-virginica'),\n",
       " (1, 'Iris-versicolor'),\n",
       " (1, 'Iris-versicolor'),\n",
       " (1, 'Iris-versicolor'),\n",
       " (2, 'Iris-virginica'),\n",
       " (2, 'Iris-virginica'),\n",
       " (0, 'Iris-setosa'),\n",
       " (1, 'Iris-versicolor'),\n",
       " (2, 'Iris-virginica'),\n",
       " (2, 'Iris-virginica'),\n",
       " (1, 'Iris-versicolor'),\n",
       " (2, 'Iris-virginica'),\n",
       " (1, 'Iris-versicolor'),\n",
       " (2, 'Iris-virginica'),\n",
       " (1, 'Iris-versicolor'),\n",
       " (1, 'Iris-versicolor'),\n",
       " (0, 'Iris-setosa'),\n",
       " (1, 'Iris-versicolor'),\n",
       " (0, 'Iris-setosa'),\n",
       " (0, 'Iris-setosa'),\n",
       " (2, 'Iris-virginica'),\n",
       " (0, 'Iris-setosa'),\n",
       " (1, 'Iris-versicolor'),\n",
       " (2, 'Iris-virginica'),\n",
       " (2, 'Iris-virginica'),\n",
       " (2, 'Iris-virginica'),\n",
       " (0, 'Iris-setosa'),\n",
       " (1, 'Iris-versicolor'),\n",
       " (1, 'Iris-versicolor'),\n",
       " (1, 'Iris-versicolor'),\n",
       " (2, 'Iris-virginica'),\n",
       " (0, 'Iris-setosa'),\n",
       " (0, 'Iris-setosa'),\n",
       " (0, 'Iris-setosa'),\n",
       " (0, 'Iris-setosa'),\n",
       " (2, 'Iris-virginica'),\n",
       " (1, 'Iris-versicolor'),\n",
       " (0, 'Iris-setosa'),\n",
       " (2, 'Iris-virginica'),\n",
       " (1, 'Iris-versicolor'),\n",
       " (0, 'Iris-setosa'),\n",
       " (1, 'Iris-versicolor'),\n",
       " (0, 'Iris-setosa'),\n",
       " (1, 'Iris-versicolor'),\n",
       " (0, 'Iris-setosa'),\n",
       " (0, 'Iris-setosa'),\n",
       " (0, 'Iris-setosa'),\n",
       " (0, 'Iris-setosa'),\n",
       " (0, 'Iris-setosa'),\n",
       " (0, 'Iris-setosa'),\n",
       " (0, 'Iris-setosa'),\n",
       " (2, 'Iris-virginica'),\n",
       " (1, 'Iris-versicolor'),\n",
       " (1, 'Iris-versicolor'),\n",
       " (1, 'Iris-versicolor'),\n",
       " (2, 'Iris-virginica'),\n",
       " (2, 'Iris-virginica'),\n",
       " (2, 'Iris-virginica'),\n",
       " (0, 'Iris-setosa'),\n",
       " (2, 'Iris-virginica'),\n",
       " (0, 'Iris-setosa'),\n",
       " (2, 'Iris-virginica'),\n",
       " (0, 'Iris-setosa'),\n",
       " (1, 'Iris-versicolor'),\n",
       " (0, 'Iris-setosa'),\n",
       " (2, 'Iris-virginica'),\n",
       " (2, 'Iris-virginica'),\n",
       " (2, 'Iris-virginica'),\n",
       " (2, 'Iris-virginica'),\n",
       " (1, 'Iris-versicolor'),\n",
       " (2, 'Iris-virginica'),\n",
       " (1, 'Iris-versicolor'),\n",
       " (2, 'Iris-virginica'),\n",
       " (1, 'Iris-versicolor'),\n",
       " (1, 'Iris-versicolor'),\n",
       " (2, 'Iris-virginica'),\n",
       " (1, 'Iris-versicolor'),\n",
       " (2, 'Iris-virginica'),\n",
       " (2, 'Iris-virginica'),\n",
       " (1, 'Iris-versicolor'),\n",
       " (1, 'Iris-versicolor'),\n",
       " (0, 'Iris-setosa'),\n",
       " (0, 'Iris-setosa'),\n",
       " (2, 'Iris-virginica'),\n",
       " (1, 'Iris-versicolor'),\n",
       " (1, 'Iris-versicolor'),\n",
       " (0, 'Iris-setosa'),\n",
       " (2, 'Iris-virginica'),\n",
       " (0, 'Iris-setosa'),\n",
       " (2, 'Iris-virginica'),\n",
       " (1, 'Iris-versicolor'),\n",
       " (0, 'Iris-setosa'),\n",
       " (2, 'Iris-virginica'),\n",
       " (0, 'Iris-setosa'),\n",
       " (2, 'Iris-virginica'),\n",
       " (2, 'Iris-virginica'),\n",
       " (0, 'Iris-setosa')]"
      ]
     },
     "execution_count": 56,
     "metadata": {},
     "output_type": "execute_result"
    }
   ],
   "source": [
    "list(zip(label, data['Species']))"
   ]
  },
  {
   "cell_type": "code",
   "execution_count": 67,
   "metadata": {},
   "outputs": [
    {
     "ename": "KeyError",
     "evalue": "\"['Id'] not found in axis\"",
     "output_type": "error",
     "traceback": [
      "\u001b[1;31m---------------------------------------------------------------------------\u001b[0m",
      "\u001b[1;31mKeyError\u001b[0m                                  Traceback (most recent call last)",
      "\u001b[1;32m<ipython-input-67-7982732e2ab0>\u001b[0m in \u001b[0;36m<module>\u001b[1;34m\u001b[0m\n\u001b[1;32m----> 1\u001b[1;33m \u001b[0mdata\u001b[0m \u001b[1;33m=\u001b[0m \u001b[0mdata\u001b[0m\u001b[1;33m.\u001b[0m\u001b[0mdrop\u001b[0m\u001b[1;33m(\u001b[0m\u001b[0mcolumns\u001b[0m\u001b[1;33m=\u001b[0m\u001b[1;33m[\u001b[0m\u001b[1;34m'Id'\u001b[0m\u001b[1;33m]\u001b[0m\u001b[1;33m)\u001b[0m\u001b[1;33m\u001b[0m\u001b[1;33m\u001b[0m\u001b[0m\n\u001b[0m",
      "\u001b[1;32m~\\Miniconda3\\envs\\ml\\lib\\site-packages\\pandas\\core\\frame.py\u001b[0m in \u001b[0;36mdrop\u001b[1;34m(self, labels, axis, index, columns, level, inplace, errors)\u001b[0m\n\u001b[0;32m   4095\u001b[0m             \u001b[0mlevel\u001b[0m\u001b[1;33m=\u001b[0m\u001b[0mlevel\u001b[0m\u001b[1;33m,\u001b[0m\u001b[1;33m\u001b[0m\u001b[1;33m\u001b[0m\u001b[0m\n\u001b[0;32m   4096\u001b[0m             \u001b[0minplace\u001b[0m\u001b[1;33m=\u001b[0m\u001b[0minplace\u001b[0m\u001b[1;33m,\u001b[0m\u001b[1;33m\u001b[0m\u001b[1;33m\u001b[0m\u001b[0m\n\u001b[1;32m-> 4097\u001b[1;33m             \u001b[0merrors\u001b[0m\u001b[1;33m=\u001b[0m\u001b[0merrors\u001b[0m\u001b[1;33m,\u001b[0m\u001b[1;33m\u001b[0m\u001b[1;33m\u001b[0m\u001b[0m\n\u001b[0m\u001b[0;32m   4098\u001b[0m         )\n\u001b[0;32m   4099\u001b[0m \u001b[1;33m\u001b[0m\u001b[0m\n",
      "\u001b[1;32m~\\Miniconda3\\envs\\ml\\lib\\site-packages\\pandas\\core\\generic.py\u001b[0m in \u001b[0;36mdrop\u001b[1;34m(self, labels, axis, index, columns, level, inplace, errors)\u001b[0m\n\u001b[0;32m   3913\u001b[0m         \u001b[1;32mfor\u001b[0m \u001b[0maxis\u001b[0m\u001b[1;33m,\u001b[0m \u001b[0mlabels\u001b[0m \u001b[1;32min\u001b[0m \u001b[0maxes\u001b[0m\u001b[1;33m.\u001b[0m\u001b[0mitems\u001b[0m\u001b[1;33m(\u001b[0m\u001b[1;33m)\u001b[0m\u001b[1;33m:\u001b[0m\u001b[1;33m\u001b[0m\u001b[1;33m\u001b[0m\u001b[0m\n\u001b[0;32m   3914\u001b[0m             \u001b[1;32mif\u001b[0m \u001b[0mlabels\u001b[0m \u001b[1;32mis\u001b[0m \u001b[1;32mnot\u001b[0m \u001b[1;32mNone\u001b[0m\u001b[1;33m:\u001b[0m\u001b[1;33m\u001b[0m\u001b[1;33m\u001b[0m\u001b[0m\n\u001b[1;32m-> 3915\u001b[1;33m                 \u001b[0mobj\u001b[0m \u001b[1;33m=\u001b[0m \u001b[0mobj\u001b[0m\u001b[1;33m.\u001b[0m\u001b[0m_drop_axis\u001b[0m\u001b[1;33m(\u001b[0m\u001b[0mlabels\u001b[0m\u001b[1;33m,\u001b[0m \u001b[0maxis\u001b[0m\u001b[1;33m,\u001b[0m \u001b[0mlevel\u001b[0m\u001b[1;33m=\u001b[0m\u001b[0mlevel\u001b[0m\u001b[1;33m,\u001b[0m \u001b[0merrors\u001b[0m\u001b[1;33m=\u001b[0m\u001b[0merrors\u001b[0m\u001b[1;33m)\u001b[0m\u001b[1;33m\u001b[0m\u001b[1;33m\u001b[0m\u001b[0m\n\u001b[0m\u001b[0;32m   3916\u001b[0m \u001b[1;33m\u001b[0m\u001b[0m\n\u001b[0;32m   3917\u001b[0m         \u001b[1;32mif\u001b[0m \u001b[0minplace\u001b[0m\u001b[1;33m:\u001b[0m\u001b[1;33m\u001b[0m\u001b[1;33m\u001b[0m\u001b[0m\n",
      "\u001b[1;32m~\\Miniconda3\\envs\\ml\\lib\\site-packages\\pandas\\core\\generic.py\u001b[0m in \u001b[0;36m_drop_axis\u001b[1;34m(self, labels, axis, level, errors)\u001b[0m\n\u001b[0;32m   3945\u001b[0m                 \u001b[0mnew_axis\u001b[0m \u001b[1;33m=\u001b[0m \u001b[0maxis\u001b[0m\u001b[1;33m.\u001b[0m\u001b[0mdrop\u001b[0m\u001b[1;33m(\u001b[0m\u001b[0mlabels\u001b[0m\u001b[1;33m,\u001b[0m \u001b[0mlevel\u001b[0m\u001b[1;33m=\u001b[0m\u001b[0mlevel\u001b[0m\u001b[1;33m,\u001b[0m \u001b[0merrors\u001b[0m\u001b[1;33m=\u001b[0m\u001b[0merrors\u001b[0m\u001b[1;33m)\u001b[0m\u001b[1;33m\u001b[0m\u001b[1;33m\u001b[0m\u001b[0m\n\u001b[0;32m   3946\u001b[0m             \u001b[1;32melse\u001b[0m\u001b[1;33m:\u001b[0m\u001b[1;33m\u001b[0m\u001b[1;33m\u001b[0m\u001b[0m\n\u001b[1;32m-> 3947\u001b[1;33m                 \u001b[0mnew_axis\u001b[0m \u001b[1;33m=\u001b[0m \u001b[0maxis\u001b[0m\u001b[1;33m.\u001b[0m\u001b[0mdrop\u001b[0m\u001b[1;33m(\u001b[0m\u001b[0mlabels\u001b[0m\u001b[1;33m,\u001b[0m \u001b[0merrors\u001b[0m\u001b[1;33m=\u001b[0m\u001b[0merrors\u001b[0m\u001b[1;33m)\u001b[0m\u001b[1;33m\u001b[0m\u001b[1;33m\u001b[0m\u001b[0m\n\u001b[0m\u001b[0;32m   3948\u001b[0m             \u001b[0mresult\u001b[0m \u001b[1;33m=\u001b[0m \u001b[0mself\u001b[0m\u001b[1;33m.\u001b[0m\u001b[0mreindex\u001b[0m\u001b[1;33m(\u001b[0m\u001b[1;33m**\u001b[0m\u001b[1;33m{\u001b[0m\u001b[0maxis_name\u001b[0m\u001b[1;33m:\u001b[0m \u001b[0mnew_axis\u001b[0m\u001b[1;33m}\u001b[0m\u001b[1;33m)\u001b[0m\u001b[1;33m\u001b[0m\u001b[1;33m\u001b[0m\u001b[0m\n\u001b[0;32m   3949\u001b[0m \u001b[1;33m\u001b[0m\u001b[0m\n",
      "\u001b[1;32m~\\Miniconda3\\envs\\ml\\lib\\site-packages\\pandas\\core\\indexes\\base.py\u001b[0m in \u001b[0;36mdrop\u001b[1;34m(self, labels, errors)\u001b[0m\n\u001b[0;32m   5331\u001b[0m         \u001b[1;32mif\u001b[0m \u001b[0mmask\u001b[0m\u001b[1;33m.\u001b[0m\u001b[0many\u001b[0m\u001b[1;33m(\u001b[0m\u001b[1;33m)\u001b[0m\u001b[1;33m:\u001b[0m\u001b[1;33m\u001b[0m\u001b[1;33m\u001b[0m\u001b[0m\n\u001b[0;32m   5332\u001b[0m             \u001b[1;32mif\u001b[0m \u001b[0merrors\u001b[0m \u001b[1;33m!=\u001b[0m \u001b[1;34m\"ignore\"\u001b[0m\u001b[1;33m:\u001b[0m\u001b[1;33m\u001b[0m\u001b[1;33m\u001b[0m\u001b[0m\n\u001b[1;32m-> 5333\u001b[1;33m                 \u001b[1;32mraise\u001b[0m \u001b[0mKeyError\u001b[0m\u001b[1;33m(\u001b[0m\u001b[1;34m\"{} not found in axis\"\u001b[0m\u001b[1;33m.\u001b[0m\u001b[0mformat\u001b[0m\u001b[1;33m(\u001b[0m\u001b[0mlabels\u001b[0m\u001b[1;33m[\u001b[0m\u001b[0mmask\u001b[0m\u001b[1;33m]\u001b[0m\u001b[1;33m)\u001b[0m\u001b[1;33m)\u001b[0m\u001b[1;33m\u001b[0m\u001b[1;33m\u001b[0m\u001b[0m\n\u001b[0m\u001b[0;32m   5334\u001b[0m             \u001b[0mindexer\u001b[0m \u001b[1;33m=\u001b[0m \u001b[0mindexer\u001b[0m\u001b[1;33m[\u001b[0m\u001b[1;33m~\u001b[0m\u001b[0mmask\u001b[0m\u001b[1;33m]\u001b[0m\u001b[1;33m\u001b[0m\u001b[1;33m\u001b[0m\u001b[0m\n\u001b[0;32m   5335\u001b[0m         \u001b[1;32mreturn\u001b[0m \u001b[0mself\u001b[0m\u001b[1;33m.\u001b[0m\u001b[0mdelete\u001b[0m\u001b[1;33m(\u001b[0m\u001b[0mindexer\u001b[0m\u001b[1;33m)\u001b[0m\u001b[1;33m\u001b[0m\u001b[1;33m\u001b[0m\u001b[0m\n",
      "\u001b[1;31mKeyError\u001b[0m: \"['Id'] not found in axis\""
     ]
    }
   ],
   "source": [
    "data = data.drop(columns=['Id'])"
   ]
  },
  {
   "cell_type": "code",
   "execution_count": 78,
   "metadata": {},
   "outputs": [],
   "source": [
    "train_size = int(len(data) * 0.8)\n",
    "train_data, test_data = data[:train_size], data[train_size:]\n",
    "train_label, test_label = label[:train_size], label[train_size:]"
   ]
  },
  {
   "cell_type": "code",
   "execution_count": 69,
   "metadata": {},
   "outputs": [
    {
     "data": {
      "text/html": [
       "<div>\n",
       "<style scoped>\n",
       "    .dataframe tbody tr th:only-of-type {\n",
       "        vertical-align: middle;\n",
       "    }\n",
       "\n",
       "    .dataframe tbody tr th {\n",
       "        vertical-align: top;\n",
       "    }\n",
       "\n",
       "    .dataframe thead th {\n",
       "        text-align: right;\n",
       "    }\n",
       "</style>\n",
       "<table border=\"1\" class=\"dataframe\">\n",
       "  <thead>\n",
       "    <tr style=\"text-align: right;\">\n",
       "      <th></th>\n",
       "      <th>SepalLengthCm</th>\n",
       "      <th>SepalWidthCm</th>\n",
       "      <th>PetalLengthCm</th>\n",
       "      <th>PetalWidthCm</th>\n",
       "    </tr>\n",
       "  </thead>\n",
       "  <tbody>\n",
       "    <tr>\n",
       "      <th>61</th>\n",
       "      <td>5.9</td>\n",
       "      <td>3.0</td>\n",
       "      <td>4.2</td>\n",
       "      <td>1.5</td>\n",
       "    </tr>\n",
       "    <tr>\n",
       "      <th>29</th>\n",
       "      <td>4.7</td>\n",
       "      <td>3.2</td>\n",
       "      <td>1.6</td>\n",
       "      <td>0.2</td>\n",
       "    </tr>\n",
       "    <tr>\n",
       "      <th>48</th>\n",
       "      <td>5.3</td>\n",
       "      <td>3.7</td>\n",
       "      <td>1.5</td>\n",
       "      <td>0.2</td>\n",
       "    </tr>\n",
       "    <tr>\n",
       "      <th>42</th>\n",
       "      <td>4.4</td>\n",
       "      <td>3.2</td>\n",
       "      <td>1.3</td>\n",
       "      <td>0.2</td>\n",
       "    </tr>\n",
       "    <tr>\n",
       "      <th>46</th>\n",
       "      <td>5.1</td>\n",
       "      <td>3.8</td>\n",
       "      <td>1.6</td>\n",
       "      <td>0.2</td>\n",
       "    </tr>\n",
       "  </tbody>\n",
       "</table>\n",
       "</div>"
      ],
      "text/plain": [
       "    SepalLengthCm  SepalWidthCm  PetalLengthCm  PetalWidthCm\n",
       "61            5.9           3.0            4.2           1.5\n",
       "29            4.7           3.2            1.6           0.2\n",
       "48            5.3           3.7            1.5           0.2\n",
       "42            4.4           3.2            1.3           0.2\n",
       "46            5.1           3.8            1.6           0.2"
      ]
     },
     "execution_count": 69,
     "metadata": {},
     "output_type": "execute_result"
    }
   ],
   "source": [
    "train_data.sample(5)"
   ]
  },
  {
   "cell_type": "code",
   "execution_count": 90,
   "metadata": {},
   "outputs": [],
   "source": [
    "model = IrisModule()\n",
    "criterion = torch.nn.CrossEntropyLoss()\n",
    "optimizer = torch.optim.Adam(model.parameters(), lr=1e-2)"
   ]
  },
  {
   "cell_type": "code",
   "execution_count": 96,
   "metadata": {
    "scrolled": true
   },
   "outputs": [
    {
     "data": {
      "text/plain": [
       "'0 > 0.20615746080875397'"
      ]
     },
     "metadata": {},
     "output_type": "display_data"
    },
    {
     "data": {
      "text/plain": [
       "'1 > 0.20113803446292877'"
      ]
     },
     "metadata": {},
     "output_type": "display_data"
    },
    {
     "data": {
      "text/plain": [
       "'2 > 0.19611647725105286'"
      ]
     },
     "metadata": {},
     "output_type": "display_data"
    },
    {
     "data": {
      "text/plain": [
       "'3 > 0.19108709692955017'"
      ]
     },
     "metadata": {},
     "output_type": "display_data"
    },
    {
     "data": {
      "text/plain": [
       "'4 > 0.18606549501419067'"
      ]
     },
     "metadata": {},
     "output_type": "display_data"
    },
    {
     "data": {
      "text/plain": [
       "'5 > 0.18114441633224487'"
      ]
     },
     "metadata": {},
     "output_type": "display_data"
    },
    {
     "data": {
      "text/plain": [
       "'6 > 0.17622429132461548'"
      ]
     },
     "metadata": {},
     "output_type": "display_data"
    },
    {
     "data": {
      "text/plain": [
       "'7 > 0.17131291329860687'"
      ]
     },
     "metadata": {},
     "output_type": "display_data"
    },
    {
     "data": {
      "text/plain": [
       "'8 > 0.1664334386587143'"
      ]
     },
     "metadata": {},
     "output_type": "display_data"
    },
    {
     "data": {
      "text/plain": [
       "'9 > 0.161603182554245'"
      ]
     },
     "metadata": {},
     "output_type": "display_data"
    },
    {
     "data": {
      "text/plain": [
       "'10 > 0.15683294832706451'"
      ]
     },
     "metadata": {},
     "output_type": "display_data"
    },
    {
     "data": {
      "text/plain": [
       "'11 > 0.15213808417320251'"
      ]
     },
     "metadata": {},
     "output_type": "display_data"
    },
    {
     "data": {
      "text/plain": [
       "'12 > 0.14753474295139313'"
      ]
     },
     "metadata": {},
     "output_type": "display_data"
    },
    {
     "data": {
      "text/plain": [
       "'13 > 0.14303140342235565'"
      ]
     },
     "metadata": {},
     "output_type": "display_data"
    },
    {
     "data": {
      "text/plain": [
       "'14 > 0.13862791657447815'"
      ]
     },
     "metadata": {},
     "output_type": "display_data"
    },
    {
     "data": {
      "text/plain": [
       "'15 > 0.13433198630809784'"
      ]
     },
     "metadata": {},
     "output_type": "display_data"
    },
    {
     "data": {
      "text/plain": [
       "'16 > 0.1301514059305191'"
      ]
     },
     "metadata": {},
     "output_type": "display_data"
    },
    {
     "data": {
      "text/plain": [
       "'17 > 0.12610594928264618'"
      ]
     },
     "metadata": {},
     "output_type": "display_data"
    },
    {
     "data": {
      "text/plain": [
       "'18 > 0.12218931317329407'"
      ]
     },
     "metadata": {},
     "output_type": "display_data"
    },
    {
     "data": {
      "text/plain": [
       "'19 > 0.1184074878692627'"
      ]
     },
     "metadata": {},
     "output_type": "display_data"
    },
    {
     "data": {
      "text/plain": [
       "'20 > 0.11476050317287445'"
      ]
     },
     "metadata": {},
     "output_type": "display_data"
    },
    {
     "data": {
      "text/plain": [
       "'21 > 0.1112479716539383'"
      ]
     },
     "metadata": {},
     "output_type": "display_data"
    },
    {
     "data": {
      "text/plain": [
       "'22 > 0.10786759853363037'"
      ]
     },
     "metadata": {},
     "output_type": "display_data"
    },
    {
     "data": {
      "text/plain": [
       "'23 > 0.10462310165166855'"
      ]
     },
     "metadata": {},
     "output_type": "display_data"
    },
    {
     "data": {
      "text/plain": [
       "'24 > 0.101516492664814'"
      ]
     },
     "metadata": {},
     "output_type": "display_data"
    },
    {
     "data": {
      "text/plain": [
       "'25 > 0.09853838384151459'"
      ]
     },
     "metadata": {},
     "output_type": "display_data"
    },
    {
     "data": {
      "text/plain": [
       "'26 > 0.09569727629423141'"
      ]
     },
     "metadata": {},
     "output_type": "display_data"
    },
    {
     "data": {
      "text/plain": [
       "'27 > 0.09297801554203033'"
      ]
     },
     "metadata": {},
     "output_type": "display_data"
    },
    {
     "data": {
      "text/plain": [
       "'28 > 0.09037651866674423'"
      ]
     },
     "metadata": {},
     "output_type": "display_data"
    },
    {
     "data": {
      "text/plain": [
       "'29 > 0.08788833022117615'"
      ]
     },
     "metadata": {},
     "output_type": "display_data"
    }
   ],
   "source": [
    "train_torch = torch.tensor(train_data.values, dtype=torch.float32)\n",
    "label_torch = torch.tensor(train_label)\n",
    "for epoch in range(30):\n",
    "    optimizer.zero_grad()\n",
    "    output = model(train_torch)\n",
    "    loss = criterion(output, label_torch)\n",
    "    loss.backward()\n",
    "    optimizer.step()\n",
    "    \n",
    "    display(\"{} > {}\".format(epoch, loss))"
   ]
  },
  {
   "cell_type": "code",
   "execution_count": 97,
   "metadata": {},
   "outputs": [
    {
     "name": "stdout",
     "output_type": "stream",
     "text": [
      "correct : 27 // total : 30\n",
      "accuracy: 0.9\n"
     ]
    }
   ],
   "source": [
    "test_data_tensor = torch.tensor(test_data.values, dtype=torch.float32)\n",
    "test_label_tensor = torch.tensor(test_label)\n",
    "\n",
    "test_output = model(test_data_tensor)\n",
    "val, est_cat = test_output.max(1)\n",
    "\n",
    "total = val.shape[0]\n",
    "correct = (est_cat == test_label_tensor).sum().item()\n",
    "\n",
    "print (\"correct : {} // total : {}\".format(correct, total))\n",
    "print (\"accuracy: {}\".format(correct / total))"
   ]
  }
 ],
 "metadata": {
  "kernelspec": {
   "display_name": "Python 3",
   "language": "python",
   "name": "python3"
  },
  "language_info": {
   "codemirror_mode": {
    "name": "ipython",
    "version": 3
   },
   "file_extension": ".py",
   "mimetype": "text/x-python",
   "name": "python",
   "nbconvert_exporter": "python",
   "pygments_lexer": "ipython3",
   "version": "3.6.9"
  }
 },
 "nbformat": 4,
 "nbformat_minor": 2
}
